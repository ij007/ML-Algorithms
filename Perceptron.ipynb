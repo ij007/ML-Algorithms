{
  "nbformat": 4,
  "nbformat_minor": 0,
  "metadata": {
    "colab": {
      "name": "Perceptron.ipynb",
      "provenance": []
    },
    "kernelspec": {
      "name": "python3",
      "display_name": "Python 3"
    },
    "language_info": {
      "name": "python"
    }
  },
  "cells": [
    {
      "cell_type": "code",
      "execution_count": null,
      "metadata": {
        "id": "czdcOQPbdX-2"
      },
      "outputs": [],
      "source": [
        "import numpy as np\n",
        "import matplotlib.pyplot as plt\n",
        "import pandas as pd\n",
        "import seaborn as sns\n",
        "\n",
        "np.random.seed(1234)"
      ]
    },
    {
      "cell_type": "markdown",
      "source": [
        "###Polynomail tranformation"
      ],
      "metadata": {
        "id": "V9zzZbbFfgfz"
      }
    },
    {
      "cell_type": "code",
      "source": [
        "import itertools\n",
        "import functools\n",
        "\n",
        "def get_combinations(x, degree):\n",
        "  return itertools.combinations_with_replacement(x, degree)\n",
        "\n",
        "def compute_new_features(items):\n",
        "  return functools.reduce(lambda x, y: x * y, items)"
      ],
      "metadata": {
        "id": "2zoxNupefPC-"
      },
      "execution_count": null,
      "outputs": []
    },
    {
      "cell_type": "code",
      "source": [
        "def polynomial_transformation(x, degree, logging=False):\n",
        "\n",
        "  if x.ndim == 1:\n",
        "    x = x[:, None]\n",
        "\n",
        "  x_t = x.transpose()\n",
        "  features = [np.ones(len(x))]\n",
        "\n",
        "  if logging:\n",
        "    print('Input: ', x)\n",
        "\n",
        "  for d in range(1, degree+1):\n",
        "    for items in get_combinations(x_t, d):\n",
        "      features.append(compute_new_features(items))\n",
        "      if logging:\n",
        "        print(items, ':', compute_new_features(items))\n",
        "    \n",
        "  if logging:\n",
        "    print(np.asarray(features).transpose())\n",
        "\n",
        "  return np.asarray(features).transpose()    "
      ],
      "metadata": {
        "id": "aQWnmzpmfkXD"
      },
      "execution_count": null,
      "outputs": []
    },
    {
      "cell_type": "markdown",
      "source": [
        "###Perceptron"
      ],
      "metadata": {
        "id": "WwXMzSJufn6O"
      }
    },
    {
      "cell_type": "code",
      "source": [
        "class Perceptron:\n",
        "  '''\n",
        "  Implements Perceptron class\n",
        "\n",
        "  Variables:\n",
        "  w: stores the weight vector.\n",
        "  w_all: stores each weight vector across each iteration.\n",
        "  erros_all: stores all error across training iteration.\n",
        "  '''\n",
        "\n",
        "  def __init__(self):\n",
        "    return\n",
        "\n",
        "  def predict(self, x):\n",
        "    '''Predicts label for inout feature matrix X'''\n",
        "    z = x @ self.w\n",
        "    return np.where(z>=0, 1, -1)\n",
        "\n",
        "    def loss(self, x, y):\n",
        "      '''calculates loss\n",
        "\n",
        "      calculates loss due to current weight vector w on feature matrix x and label vector y\n",
        "\n",
        "      Args:\n",
        "        x: Feature Matrix\n",
        "        y: Label vector\n",
        "\n",
        "      Returns:\n",
        "        None\n",
        "\n",
        "      '''\n",
        "\n",
        "      return np.sum(np.maximum(-1*self.predict(x)*y,\n",
        "                               np.zeros(y.shape[0])))\n",
        "      \n",
        "\n",
        "  def train(self, x, y, epochs=10, lr=0.001):\n",
        "    '''Implements perceptron update rule\n",
        "\n",
        "    Args:\n",
        "      x: feature matrix\n",
        "      y: Label vector\n",
        "      epochs: Number of epochs\n",
        "      lr: Learning Rate\n",
        "\n",
        "    Returns:\n",
        "      None\n",
        "\n",
        "    '''\n",
        "\n",
        "    self.w = np.zeros(x.shape[1])\n",
        "    self.errors_all = []\n",
        "    self.w_all = []\n",
        "\n",
        "    for _ in range(epochs):\n",
        "      errors = 0\n",
        "      for xi, target in zip(x, y):\n",
        "        self.w += lr * (target - self.predict(xi))*xi\n",
        "        errors += max((-1*self.predict(xi)*target), 0)\n",
        "      \n",
        "      self.w_all.append(self.w)\n",
        "      self.errors_all.append(errors)\n",
        "      \n",
        "      #Commented for visualization\n",
        "      # if self.loss(x, y) == 0:\n",
        "      #   break\n"
      ],
      "metadata": {
        "id": "w1E-h_3Rfldu"
      },
      "execution_count": null,
      "outputs": []
    },
    {
      "cell_type": "markdown",
      "source": [
        "###Generating Dataset"
      ],
      "metadata": {
        "id": "BNbog8wmvXMA"
      }
    },
    {
      "cell_type": "code",
      "source": [
        "def create_toy_data(add_outliers=False, add_class=False):\n",
        "\n",
        "  x0 = np.random.normal(size=50).reshape(-1, 2) - 1\n",
        "  x1 = np.random.normal(size=50).reshape(-1, 2) + 1\n",
        "\n",
        "  if add_outliers:\n",
        "    x_1 = np.random.normal(size=10).reshape(-1, 2) + np.array([5., 10.])\n",
        "    return np.concatenate([x0, x1, x_1]), np.concatenate([np.zeros(25), np.ones(25)]).astype(np.int)\n",
        "\n",
        "  if add_class:\n",
        "    x2 = np.random.normal(size=50).reshape(-1, 2) + 2\n",
        "    return np.concatenate([x0, x1, x2]), np.concatenate([np.zeros(25), np.ones(25)]).astype(np.int)\n",
        "\n",
        "  return np.concatenate([x0, x1]), np.concatenate([np.zeros(25), np.ones(25)]).astype(np.int)"
      ],
      "metadata": {
        "id": "OAK_W7dgo0gg"
      },
      "execution_count": null,
      "outputs": []
    },
    {
      "cell_type": "code",
      "source": [
        ""
      ],
      "metadata": {
        "id": "8w_wb00CvaE5"
      },
      "execution_count": null,
      "outputs": []
    },
    {
      "cell_type": "markdown",
      "source": [
        "###Implementation"
      ],
      "metadata": {
        "id": "U49aMVIHvhXH"
      }
    },
    {
      "cell_type": "code",
      "source": [
        "from sklearn.model_selection import train_test_split\n",
        "\n",
        "x, y = create_toy_data()\n",
        "\n",
        "x_poly = polynomial_transformation(x, degree=1)\n",
        "x_train, x_test, y_train, y_test = train_test_split(x_poly, y)"
      ],
      "metadata": {
        "colab": {
          "base_uri": "https://localhost:8080/"
        },
        "id": "ZRJKMFOCvvdT",
        "outputId": "8758a5cd-64ec-438c-c91b-6fa69a8146c5"
      },
      "execution_count": null,
      "outputs": [
        {
          "output_type": "stream",
          "name": "stderr",
          "text": [
            "/usr/local/lib/python3.7/dist-packages/ipykernel_launcher.py:14: DeprecationWarning: `np.int` is a deprecated alias for the builtin `int`. To silence this warning, use `int` by itself. Doing this will not modify any behavior and is safe. When replacing `np.int`, you may wish to use e.g. `np.int64` or `np.int32` to specify the precision. If you wish to review your current use, check the release note link for additional information.\n",
            "Deprecated in NumPy 1.20; for more details and guidance: https://numpy.org/devdocs/release/1.20.0-notes.html#deprecations\n",
            "  \n"
          ]
        }
      ]
    },
    {
      "cell_type": "code",
      "source": [
        "perceptron_obj = Perceptron()\n",
        "perceptron_obj.train(x_train, y_train, lr=1)"
      ],
      "metadata": {
        "id": "kBRpfZoTxRne"
      },
      "execution_count": null,
      "outputs": []
    },
    {
      "cell_type": "code",
      "source": [
        "perceptron_obj.w"
      ],
      "metadata": {
        "colab": {
          "base_uri": "https://localhost:8080/"
        },
        "id": "fPhgOUjsxurW",
        "outputId": "cb65127d-6cb0-4f47-9f59-7cd20ddae1d5"
      },
      "execution_count": null,
      "outputs": [
        {
          "output_type": "execute_result",
          "data": {
            "text/plain": [
              "array([0.        , 3.08806588, 0.54426002])"
            ]
          },
          "metadata": {},
          "execution_count": 10
        }
      ]
    },
    {
      "cell_type": "code",
      "source": [
        ""
      ],
      "metadata": {
        "id": "xOtgA8lwzFiG"
      },
      "execution_count": null,
      "outputs": []
    }
  ]
}