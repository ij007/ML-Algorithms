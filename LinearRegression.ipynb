{
  "nbformat": 4,
  "nbformat_minor": 0,
  "metadata": {
    "colab": {
      "name": "LinearRegression.ipynb",
      "provenance": []
    },
    "kernelspec": {
      "name": "python3",
      "display_name": "Python 3"
    },
    "language_info": {
      "name": "python"
    }
  },
  "cells": [
    {
      "cell_type": "markdown",
      "source": [
        "### **Linear Regression**"
      ],
      "metadata": {
        "id": "x-ABOt-kU3wV"
      }
    },
    {
      "cell_type": "code",
      "execution_count": null,
      "metadata": {
        "id": "jN4YmJhkUs2U"
      },
      "outputs": [],
      "source": [
        "  from IPython.display import display, Math, Latex\n",
        "\n",
        "  import seaborn as sns\n",
        "  import matplotlib.pyplot as plt\n",
        "  import numpy as np\n",
        "\n",
        "  %matplotlib inline"
      ]
    },
    {
      "cell_type": "markdown",
      "source": [
        "###Training Data"
      ],
      "metadata": {
        "id": "5gdLz5-GuOuD"
      }
    },
    {
      "cell_type": "code",
      "source": [
        "\n",
        "def add_dummy_feature(x):\n",
        "  '''\n",
        "  Args:\n",
        "    x: Training dataset\n",
        "\n",
        "  Returns:\n",
        "    Training dataset with an addition of dummy feature.\n",
        "\n",
        "  '''\n",
        "\n",
        "  return np.column_stack((np.ones(x.shape[0]), x))\n",
        "\n",
        "\n",
        "#used to construct the data set.\n",
        "def preprocessing(n=100):\n",
        "  w1 = 3\n",
        "  w0 = 4\n",
        "\n",
        "\n",
        "  x = 10 * np.random.randn(n, )\n",
        "\n",
        "  #used to obtain y = data point + nosie\n",
        "  y = w0 + w1 * x + np.random.randn(n, )\n",
        "\n",
        "  print('Shape of training data feature matrix:', x.shape)\n",
        "  print('Shape of label vector', y.shape)\n",
        "\n",
        "  from sklearn.model_selection import train_test_split\n",
        "\n",
        "  x_train, x_test, y_train, y_test = train_test_split(\n",
        "                  x, y, test_size=0.20, random_state=40\n",
        "                  ) \n",
        "\n",
        "  \n",
        "  \n",
        "\n",
        "  print()\n",
        "  print('shape of training feature matrix: ', x_train.shape)\n",
        "  print('shape of label vector: ', y_train.shape)\n",
        "\n",
        "  print('shape of test feature matrix: ', x_test.shape)\n",
        "  print('shape of test label vector: ', y_test.shape)\n",
        "\n",
        "\n",
        "  sns.set_style('white')\n",
        "  f = plt.figure(figsize= (8, 8))\n",
        "\n",
        "  plt.plot(x_train, y_train, 'b.')\n",
        "  plt.title('Data Points')\n",
        "  plt.grid(True)\n",
        "  plt.xlabel('$x_1$', fontsize = 18)\n",
        "  plt.ylabel('$y$', fontsize = 18)\n",
        "\n",
        "\n",
        "  plt.show()\n",
        "\n",
        "  x_test = add_dummy_feature(x_test)\n",
        "  x_train = add_dummy_feature(x_train)\n",
        "  return x_train, x_test, y_train, y_test"
      ],
      "metadata": {
        "id": "9LBRHhMHk0-Y"
      },
      "execution_count": null,
      "outputs": []
    },
    {
      "cell_type": "code",
      "source": [
        "class LinReg(object):\n",
        "  \"\"\"\n",
        "  y = X@w\n",
        "  X: A feature matrix\n",
        "  w : weight vector\n",
        "  y: label vector\n",
        "\n",
        "  \"\"\"\n",
        "  def __init__(self):\n",
        "    self.t0 = 20\n",
        "    self.t1 = 100000\n",
        "\n",
        "  def predict(self,X:np.ndarray):\n",
        "    y = X @ self.w\n",
        "    return y\n",
        "  \n",
        "  def loss(self, X:np.ndarray, y:np.ndarray):\n",
        "    e =  self.predict(X)-y\n",
        "    return ((1/2)*(np.transpose(e) @ e))\n",
        "\n",
        "  def rmse (self, X:np.ndarray, y:np.ndarray):\n",
        "    return np.sqrt((2/X.shape[0]) * self.loss(X,y)) #2/n * loss\n",
        "  \n",
        "  def fit (self, X:np.ndarray, y:np.ndarray):\n",
        "    self.w = np.linalg.pinv(X) @ y\n",
        "    return self.w\n",
        "  \n",
        "  def calculate_gradient(self, X:np.ndarray, y:np.ndarray):\n",
        "    return(np.transpose(X) @ (self.predict(X)-y))\n",
        "  \n",
        "  def update_weights(self, grad:np.ndarray, lr:float):\n",
        "    return(self.w - lr*grad)\n",
        "\n",
        "  def learning_schedule(self,t):\n",
        "    return self.t0 / (t+self.t1)\n",
        "\n",
        "  def gd(self, X:np.ndarray, y:np.ndarray, num_epochs:int, lr:float):\n",
        "    self.w = np.zeros((X.shape[1]))\n",
        "    self.w_all = []\n",
        "    self.err_all = []\n",
        "    for i in np.arange(0,num_epochs):\n",
        "      self.w_all.append(self.w)\n",
        "      self.err_all.append(self.loss(X,y))\n",
        "      djdw = self.calculate_gradient(X,y)\n",
        "      self.w = self.update_weights(djdw,lr)\n",
        "    return self.w\n",
        "\n",
        "  def mbgd(self, X:np.ndarray, y:np.ndarray, num_epochs:int, batch_size:int):\n",
        "    self.w = np.zeros((X.shape[1]))\n",
        "    self.w_all = []\n",
        "    self.err_all = []\n",
        "    mini_batch_id = 0\n",
        "\n",
        "    for epoch in range(num_epochs):\n",
        "      shuffled_indices = np.random.permutation(X.shape[0])\n",
        "      X_shuffled = X[shuffled_indices]\n",
        "      y_shuffled = y[shuffled_indices]\n",
        "      for i in range(0,X.shape[0],batch_size):\n",
        "        mini_batch_id += 1\n",
        "        xi = X_shuffled[i:i+batch_size]\n",
        "        yi = y_shuffled[i:i+batch_size]\n",
        "        self.w_all.append(self.w)\n",
        "        self.err_all.append(self.loss(xi,yi))\n",
        "        djdw = 2/batch_size * self.calculate_gradient(xi,yi)\n",
        "        self.w = self.update_weights(djdw,self.learning_schedule(mini_batch_id))\n",
        "    return self.w\n",
        "\n",
        "  def sgd(self, X:np.ndarray, y:np.ndarray, num_epochs:int):\n",
        "    self.w = np.zeros((X.shape[1]))\n",
        "    self.w_all = []\n",
        "    self.err_all = []\n",
        " \n",
        "    for epoch in range(num_epochs):\n",
        "      for i in range(X.shape[0]):\n",
        "       \n",
        "        random_index = np.random.randint(X.shape[0])\n",
        "        xi = X[random_index:random_index+1]\n",
        "        yi = y[random_index:random_index+1]\n",
        "        self.w_all.append(self.w)\n",
        "        self.err_all.append(self.loss(xi,yi))\n",
        "        djdw = 2 * self.calculate_gradient(xi,yi)\n",
        "        self.w = self.update_weights(djdw,self.learning_schedule(epoch * X.shape[0] + i))\n",
        "    return self.w"
      ],
      "metadata": {
        "id": "cecJ5M_e2OV_"
      },
      "execution_count": null,
      "outputs": []
    },
    {
      "cell_type": "code",
      "source": [
        "lin_reg = LinReg()\n",
        "lin_reg.fit(X_train,y_train)\n",
        "lin_reg.w"
      ],
      "metadata": {
        "id": "iFtMC0DmnSzm"
      },
      "execution_count": null,
      "outputs": []
    },
    {
      "cell_type": "code",
      "source": [
        "lin_reg = LinReg()\n",
        "lin_reg.gd(X_train,y_train,1000,0.0001)\n",
        "lin_reg.w"
      ],
      "metadata": {
        "id": "bGBH15gkneu-"
      },
      "execution_count": null,
      "outputs": []
    },
    {
      "cell_type": "code",
      "source": [
        "lin_reg = LinReg()\n",
        "lin_reg.mbgd(X_train,y_train,2000,16)\n",
        "lin_reg.w"
      ],
      "metadata": {
        "id": "34XfPsROnke0"
      },
      "execution_count": null,
      "outputs": []
    },
    {
      "cell_type": "code",
      "source": [
        "lin_reg = LinReg()\n",
        "lin_reg.sgd(X_train,y_train,1000)\n",
        "lin_reg.w"
      ],
      "metadata": {
        "id": "bsYy8VOHnmVw"
      },
      "execution_count": null,
      "outputs": []
    },
    {
      "cell_type": "code",
      "source": [
        ""
      ],
      "metadata": {
        "id": "3btrNw0NnjNW"
      },
      "execution_count": null,
      "outputs": []
    },
    {
      "cell_type": "code",
      "source": [
        "import unittest\n",
        "class TestAddDummyFeature(unittest.TestCase):\n",
        "\n",
        "  def test_add_dummy_feature(self):\n",
        "    '''Test case function to test add_test_dummy_feature'''\n",
        "    train_matrix = np.array([[1, 2, 3], [4, 5, 6]])\n",
        "    train_matrix_with_dummy_feature = add_dummy_feature(train_matrix)\n",
        "\n",
        "    #Testing shape\n",
        "    self.assertEqual(train_matrix_with_dummy_feature.shape,(2, 4) )\n",
        "\n",
        "    #Testing the contents\n",
        "    np.testing.assert_array_equal(train_matrix_with_dummy_feature, \n",
        "                                    np.array([[1,1,2,3], [1, 4, 5, 6]]))\n",
        "    \n",
        "unittest.main(argv=[''], defaultTest='TestAddDummyFeature', verbosity = 2, exit = False)\n"
      ],
      "metadata": {
        "colab": {
          "base_uri": "https://localhost:8080/"
        },
        "id": "j2Nqs5nf9kgI",
        "outputId": "dbaa9203-9fe2-4aca-8d5d-eb85cb447685"
      },
      "execution_count": null,
      "outputs": [
        {
          "output_type": "stream",
          "name": "stderr",
          "text": [
            "test_add_dummy_feature (__main__.TestAddDummyFeature)\n",
            "Test case function to test add_test_dummy_feature ... ok\n",
            "\n",
            "----------------------------------------------------------------------\n",
            "Ran 1 test in 0.003s\n",
            "\n",
            "OK\n"
          ]
        },
        {
          "output_type": "execute_result",
          "data": {
            "text/plain": [
              "<unittest.main.TestProgram at 0x7faab76c5350>"
            ]
          },
          "metadata": {},
          "execution_count": 26
        }
      ]
    },
    {
      "cell_type": "markdown",
      "source": [
        ""
      ],
      "metadata": {
        "id": "jQjtsq-F8pBO"
      }
    },
    {
      "cell_type": "markdown",
      "source": [
        "###Model"
      ],
      "metadata": {
        "id": "1tMPYR8v8rNt"
      }
    },
    {
      "cell_type": "code",
      "source": [
        ""
      ],
      "metadata": {
        "id": "geoX_Dqa8vZ4"
      },
      "execution_count": null,
      "outputs": []
    },
    {
      "cell_type": "code",
      "source": [
        "import unittest\n",
        "\n",
        "class TestPredict(unittest.TestCase):\n",
        "\n",
        "  def test_predict(self):\n",
        "    '''Test case predict function for linear regression'''\n",
        "\n",
        "    train_matrix = np.array([[1, 3, 2, 5], [1, 9, 4, 7]])\n",
        "    weight_vector = np.array([1, 1, 1, 1])\n",
        "    expected_label_vector = np.array([11, 21])\n",
        "\n",
        "    predicted_label_vector = predict(train_matrix, weight_vector)\n",
        "\n",
        "    #Checking shape\n",
        "    self.assertEqual(predicted_label_vector.shape, (2, ))\n",
        "\n",
        "    #Testing content\n",
        "    np.testing.assert_array_equal(predicted_label_vector, expected_label_vector)\n",
        "\n",
        "unittest.main(argv=[''], verbosity=2, defaultTest='TestPredict', exit=False)"
      ],
      "metadata": {
        "colab": {
          "base_uri": "https://localhost:8080/"
        },
        "id": "ZbxfFUwZ9p_Z",
        "outputId": "3fb4545e-8f28-4120-f5b8-ad4d122e08a7"
      },
      "execution_count": null,
      "outputs": [
        {
          "output_type": "stream",
          "name": "stderr",
          "text": [
            "test_predict (__main__.TestPredict)\n",
            "Test case predict function for linear regression ... ok\n",
            "\n",
            "----------------------------------------------------------------------\n",
            "Ran 1 test in 0.004s\n",
            "\n",
            "OK\n"
          ]
        },
        {
          "output_type": "execute_result",
          "data": {
            "text/plain": [
              "<unittest.main.TestProgram at 0x7f3d875f04d0>"
            ]
          },
          "metadata": {},
          "execution_count": 98
        }
      ]
    },
    {
      "cell_type": "markdown",
      "source": [
        "##Loss implementation"
      ],
      "metadata": {
        "id": "Y_Xbo_q3Fy01"
      }
    },
    {
      "cell_type": "code",
      "source": [
        ""
      ],
      "metadata": {
        "id": "v2NTID4XDbsb"
      },
      "execution_count": null,
      "outputs": []
    },
    {
      "cell_type": "markdown",
      "source": [
        "###Synthetic Data"
      ],
      "metadata": {
        "id": "8WtvJ89VYqnJ"
      }
    },
    {
      "cell_type": "code",
      "source": [
        "x_train, x_test, y_train, y_test = preprocessing(100)"
      ],
      "metadata": {
        "colab": {
          "base_uri": "https://localhost:8080/",
          "height": 642
        },
        "id": "hG6_TTm3YyI_",
        "outputId": "17a8b0a0-48c2-41e4-b71d-d94819e0c23f"
      },
      "execution_count": null,
      "outputs": [
        {
          "output_type": "stream",
          "name": "stdout",
          "text": [
            "Shape of training data feature matrix: (100,)\n",
            "Shape of label vector (100,)\n",
            "\n",
            "shape of training feature matrix:  (80,)\n",
            "shape of label vector:  (80,)\n",
            "shape of test feature matrix:  (20,)\n",
            "shape of test label vector:  (20,)\n"
          ]
        },
        {
          "output_type": "display_data",
          "data": {
            "text/plain": [
              "<Figure size 576x576 with 1 Axes>"
            ],
            "image/png": "[encoded data removed]"
          },
          "metadata": {}
        }
      ]
    },
    {
      "cell_type": "markdown",
      "source": [
        "###Gradient Descent"
      ],
      "metadata": {
        "id": "Jrktq6KHdcLn"
      }
    },
    {
      "cell_type": "code",
      "source": [
        "\n",
        "\n"
      ],
      "metadata": {
        "id": "B-UHygHcdgBM"
      },
      "execution_count": null,
      "outputs": []
    },
    {
      "cell_type": "markdown",
      "source": [
        "Weight Update"
      ],
      "metadata": {
        "id": "DGdqk0AwrcU0"
      }
    },
    {
      "cell_type": "code",
      "source": [
        "def weightUpdate(w, grad, lr):\n",
        "  '''Updates the weight vector based on gradient of loss function\n",
        "\n",
        "    Formula used to update the weight vector\n",
        "    w_new = w_old - lr * gradient \n",
        "\n",
        "\n",
        "    args\n",
        "    w: Weight vector.\n",
        "    grad: Gradient vector\n",
        "    lr: Learning rate\n",
        "\n",
        "    Returns\n",
        "    Updatd weight vector\n",
        "  '''\n",
        "  return (w - lr*grad)"
      ],
      "metadata": {
        "id": "yw16u1mMrezq"
      },
      "execution_count": null,
      "outputs": []
    },
    {
      "cell_type": "code",
      "source": [
        "def gradient_descent(x: np.ndarray, y: np.ndarray, lr:float, epochs: int):\n",
        "  '''Estimates parameters of gradient descent through linear regression\n",
        "\n",
        "    Args\n",
        "    x: Feature matrix\n",
        "    y: Label vector\n",
        "    lr: Learning rate\n",
        "    epochs: No of epochs\n",
        "\n",
        "\n",
        "    Returns \n",
        "    wieght vector: Final weight vector\n",
        "    Error vector across different iterations\n",
        "    weight vectors across different iterations\n",
        "\n",
        "  '''\n",
        "\n",
        "  #Weight vector to store all wights thought different iterations\n",
        "  w_all = []\n",
        "\n",
        "  #Loss vector to store loss during different iterations\n",
        "  error_all = []\n",
        "\n",
        "  #initital weight vecotr \n",
        "  w = np.zeros((x.shape[1]))\n",
        "\n",
        "  print()\n",
        "\n",
        "  for i in range(1, epochs+1):\n",
        "    w_all.append(w)\n",
        "\n",
        "    error_all.append(loss(x, y, w))\n",
        "\n",
        "    #Gradient Calculation\n",
        "    grad_vector = calculate_grad(x, y, w)\n",
        "\n",
        "    if i%100 == 0:\n",
        "      print('Iteration #{}, loss: {:.6f}'.format(i, error_all[-1]))\n",
        "\n",
        "    w = weightUpdate(w, grad_vector, lr)\n",
        "\n",
        "  return w, error_all, w_all"
      ],
      "metadata": {
        "id": "v9R5sc0Jsz1o"
      },
      "execution_count": null,
      "outputs": []
    },
    {
      "cell_type": "markdown",
      "source": [
        "Pltong Learning Curve"
      ],
      "metadata": {
        "id": "hxbnYWjPCFpq"
      }
    },
    {
      "cell_type": "code",
      "source": [
        "def plot_learning(error_all):\n",
        "  plt.plot(error_all)\n",
        "  plt.xlabel('Iteration #')\n",
        "  plt.ylabel('Loss')\n",
        "  plt.show()\n",
        "\n",
        "w, error_all, w_all = gradient_descent(x_train, y_train, 0.0001, 1500)\n",
        "plot_learning(error_all)\n",
        "print(w)"
      ],
      "metadata": {
        "colab": {
          "base_uri": "https://localhost:8080/",
          "height": 574
        },
        "id": "M6w5zCLdCICT",
        "outputId": "32fdda5a-ab1e-45a0-e9fc-6a2547247a13"
      },
      "execution_count": null,
      "outputs": [
        {
          "output_type": "stream",
          "name": "stdout",
          "text": [
            "\n",
            "Iteration #100, loss: 164.624803\n",
            "Iteration #200, loss: 62.378606\n",
            "Iteration #300, loss: 40.356023\n",
            "Iteration #400, loss: 35.612628\n",
            "Iteration #500, loss: 34.590959\n",
            "Iteration #600, loss: 34.370903\n",
            "Iteration #700, loss: 34.323506\n",
            "Iteration #800, loss: 34.313297\n",
            "Iteration #900, loss: 34.311099\n",
            "Iteration #1000, loss: 34.310625\n",
            "Iteration #1100, loss: 34.310523\n",
            "Iteration #1200, loss: 34.310501\n",
            "Iteration #1300, loss: 34.310496\n",
            "Iteration #1400, loss: 34.310495\n",
            "Iteration #1500, loss: 34.310495\n"
          ]
        },
        {
          "output_type": "display_data",
          "data": {
            "text/plain": [
              "<Figure size 432x288 with 1 Axes>"
            ],
            "image/png": "[encoded data removed]"
          },
          "metadata": {}
        },
        {
          "output_type": "stream",
          "name": "stdout",
          "text": [
            "[4.00744988 3.01645002]\n"
          ]
        }
      ]
    },
    {
      "cell_type": "code",
      "source": [
        "import numpy as np"
      ],
      "metadata": {
        "id": "yxZwFdgIXhC2"
      },
      "execution_count": null,
      "outputs": []
    },
    {
      "cell_type": "code",
      "source": [
        "a = np.arange(1, 5).reshape(-1, 2)\n",
        "a"
      ],
      "metadata": {
        "colab": {
          "base_uri": "https://localhost:8080/"
        },
        "id": "a4WC6-ivXkyS",
        "outputId": "8d278771-3b7d-440e-9271-bab4ed70ad62"
      },
      "execution_count": null,
      "outputs": [
        {
          "output_type": "execute_result",
          "data": {
            "text/plain": [
              "array([[1, 2],\n",
              "       [3, 4]])"
            ]
          },
          "metadata": {},
          "execution_count": 4
        }
      ]
    },
    {
      "cell_type": "code",
      "source": [
        "b = np.arange(5, 9).reshape(2, -1)\n",
        "b"
      ],
      "metadata": {
        "colab": {
          "base_uri": "https://localhost:8080/"
        },
        "id": "ynkzBPjlXse9",
        "outputId": "54059ac5-9ff4-4902-aafd-d49161af9004"
      },
      "execution_count": null,
      "outputs": [
        {
          "output_type": "execute_result",
          "data": {
            "text/plain": [
              "array([[5, 6],\n",
              "       [7, 8]])"
            ]
          },
          "metadata": {},
          "execution_count": 5
        }
      ]
    },
    {
      "cell_type": "code",
      "source": [
        ""
      ],
      "metadata": {
        "id": "DUMSKaqbX_va"
      },
      "execution_count": null,
      "outputs": []
    }
  ]
}