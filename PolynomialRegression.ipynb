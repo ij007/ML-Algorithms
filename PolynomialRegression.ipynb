{
  "nbformat": 4,
  "nbformat_minor": 0,
  "metadata": {
    "colab": {
      "name": "PolynomialRegression.ipynb",
      "provenance": []
    },
    "kernelspec": {
      "name": "python3",
      "display_name": "Python 3"
    },
    "language_info": {
      "name": "python"
    }
  },
  "cells": [
    {
      "cell_type": "markdown",
      "source": [
        "Importing Libraries\n",
        "\n"
      ],
      "metadata": {
        "id": "N2EkHEZapbOd"
      }
    },
    {
      "cell_type": "code",
      "source": [
        "from IPython.display import display, Math, Latex\n",
        "\n",
        "import seaborn as sns\n",
        "import matplotlib.pyplot as plt\n",
        "import numpy as np\n",
        "\n",
        "%matplotlib inline"
      ],
      "metadata": {
        "id": "47FJs6CGp1Lh"
      },
      "execution_count": null,
      "outputs": []
    },
    {
      "cell_type": "markdown",
      "source": [
        "Training Data"
      ],
      "metadata": {
        "id": "V8RVBOvZphx7"
      }
    },
    {
      "cell_type": "code",
      "source": [
        "def add_dummy_feature(x):\n",
        "  '''\n",
        "  Args:\n",
        "    x: Training dataset\n",
        "\n",
        "  Returns:\n",
        "    Training dataset with an addition of dummy feature.\n",
        "\n",
        "  '''\n",
        "\n",
        "  return np.column_stack((np.ones(x.shape[0]), x))\n",
        "\n",
        "\n",
        "#used to construct the data set.\n",
        "def preprocessing(n=100):\n",
        "  w1 = 3\n",
        "  w0 = 4\n",
        "\n",
        "\n",
        "  x = 10 * np.random.randn(n, )\n",
        "\n",
        "  #used to obtain y = data point + nosie\n",
        "  y = w0 + w1 * x + np.random.randn(n, )\n",
        "\n",
        "  print('Shape of training data feature matrix:', x.shape)\n",
        "  print('Shape of label vector', y.shape)\n",
        "\n",
        "  from sklearn.model_selection import train_test_split\n",
        "\n",
        "  x_train, x_test, y_train, y_test = train_test_split(\n",
        "                  x, y, test_size=0.20, random_state=40\n",
        "                  ) \n",
        "\n",
        "  \n",
        "  \n",
        "\n",
        "  print()\n",
        "  print('shape of training feature matrix: ', x_train.shape)\n",
        "  print('shape of label vector: ', y_train.shape)\n",
        "\n",
        "  print('shape of test feature matrix: ', x_test.shape)\n",
        "  print('shape of test label vector: ', y_test.shape)\n",
        "\n",
        "\n",
        "  sns.set_style('white')\n",
        "  f = plt.figure(figsize= (8, 8))\n",
        "\n",
        "  plt.plot(x_train, y_train, 'b.')\n",
        "  plt.title('Data Points')\n",
        "  plt.grid(True)\n",
        "  plt.xlabel('$x_1$', fontsize = 18)\n",
        "  plt.ylabel('$y$', fontsize = 18)\n",
        "\n",
        "\n",
        "  plt.show()\n",
        "\n",
        "  x_test = add_dummy_feature(x_test)\n",
        "  x_train = add_dummy_feature(x_train)\n",
        "  return x_train, x_test, y_train, y_test"
      ],
      "metadata": {
        "id": "UMni9w4-pfTd"
      },
      "execution_count": null,
      "outputs": []
    },
    {
      "cell_type": "markdown",
      "source": [
        "Linear Regression"
      ],
      "metadata": {
        "id": "QdgPJbUEpl9N"
      }
    },
    {
      "cell_type": "code",
      "source": [
        "class LinReg(object):\n",
        "  \"\"\"\n",
        "  y = X@w\n",
        "  X: A feature matrix\n",
        "  w : weight vector\n",
        "  y: label vector\n",
        "\n",
        "  \"\"\"\n",
        "  def __init__(self):\n",
        "    self.t0 = 20\n",
        "    self.t1 = 100000\n",
        "\n",
        "  def predict(self,X:np.ndarray):\n",
        "    y = X @ self.w\n",
        "    return y\n",
        "  \n",
        "  def loss(self, X:np.ndarray, y:np.ndarray):\n",
        "    e =  self.predict(X)-y\n",
        "    return ((1/2)*(np.transpose(e) @ e))\n",
        "\n",
        "  def rmse (self, X:np.ndarray, y:np.ndarray):\n",
        "    return np.sqrt((2/X.shape[0]) * self.loss(X,y)) #2/n * loss\n",
        "  \n",
        "  def fit (self, X:np.ndarray, y:np.ndarray):\n",
        "    self.w = np.linalg.pinv(X) @ y\n",
        "    return self.w\n",
        "  \n",
        "  def calculate_gradient(self, X:np.ndarray, y:np.ndarray):\n",
        "    return(np.transpose(X) @ (self.predict(X)-y))\n",
        "  \n",
        "  def update_weights(self, grad:np.ndarray, lr:float):\n",
        "    return(self.w - lr*grad)\n",
        "\n",
        "  def learning_schedule(self,t):\n",
        "    return self.t0 / (t+self.t1)\n",
        "\n",
        "  def gd(self, X:np.ndarray, y:np.ndarray, num_epochs:int, lr:float):\n",
        "    self.w = np.zeros((X.shape[1]))\n",
        "    self.w_all = []\n",
        "    self.err_all = []\n",
        "    for i in np.arange(0,num_epochs):\n",
        "      self.w_all.append(self.w)\n",
        "      self.err_all.append(self.loss(X,y))\n",
        "      djdw = self.calculate_gradient(X,y)\n",
        "      self.w = self.update_weights(djdw,lr)\n",
        "    return self.w\n",
        "\n",
        "  def mbgd(self, X:np.ndarray, y:np.ndarray, num_epochs:int, batch_size:int):\n",
        "    self.w = np.zeros((X.shape[1]))\n",
        "    self.w_all = []\n",
        "    self.err_all = []\n",
        "    mini_batch_id = 0\n",
        "\n",
        "    for epoch in range(num_epochs):\n",
        "      shuffled_indices = np.random.permutation(X.shape[0])\n",
        "      X_shuffled = X[shuffled_indices]\n",
        "      y_shuffled = y[shuffled_indices]\n",
        "      for i in range(0,X.shape[0],batch_size):\n",
        "        mini_batch_id += 1\n",
        "        xi = X_shuffled[i:i+batch_size]\n",
        "        yi = y_shuffled[i:i+batch_size]\n",
        "        self.w_all.append(self.w)\n",
        "        self.err_all.append(self.loss(xi,yi))\n",
        "        djdw = 2/batch_size * self.calculate_gradient(xi,yi)\n",
        "        self.w = self.update_weights(djdw,self.learning_schedule(mini_batch_id))\n",
        "    return self.w\n",
        "\n",
        "  def sgd(self, X:np.ndarray, y:np.ndarray, num_epochs:int):\n",
        "    self.w = np.zeros((X.shape[1]))\n",
        "    self.w_all = []\n",
        "    self.err_all = []\n",
        " \n",
        "    for epoch in range(num_epochs):\n",
        "      for i in range(X.shape[0]):\n",
        "       \n",
        "        random_index = np.random.randint(X.shape[0])\n",
        "        xi = X[random_index:random_index+1]\n",
        "        yi = y[random_index:random_index+1]\n",
        "        self.w_all.append(self.w)\n",
        "        self.err_all.append(self.loss(xi,yi))\n",
        "        djdw = 2 * self.calculate_gradient(xi,yi)\n",
        "        self.w = self.update_weights(djdw,self.learning_schedule(epoch * X.shape[0] + i))\n",
        "    return self.w"
      ],
      "metadata": {
        "id": "M7_ZjPyhpjjR"
      },
      "execution_count": null,
      "outputs": []
    },
    {
      "cell_type": "code",
      "source": [
        "import itertools\n",
        "import functools\n",
        "\n",
        "def get_combinations(x, degree):\n",
        "  return itertools.combinations_with_replacement(x, degree)\n",
        "\n",
        "def compute_new_features(items):\n",
        "  return functools.reduce(lambda x, y: x * y, items)"
      ],
      "metadata": {
        "id": "8DiCsxw0pnlm"
      },
      "execution_count": null,
      "outputs": []
    },
    {
      "cell_type": "code",
      "source": [
        "{items:compute_new_features(items) for items in get_combinations([1,2,3,4,5], 4)} "
      ],
      "metadata": {
        "colab": {
          "base_uri": "https://localhost:8080/"
        },
        "id": "-WIjO0pt7KYA",
        "outputId": "067b49e7-3374-49e0-84b5-daec8075869b"
      },
      "execution_count": null,
      "outputs": [
        {
          "output_type": "execute_result",
          "data": {
            "text/plain": [
              "{(1, 1, 1, 1): 1,\n",
              " (1, 1, 1, 2): 2,\n",
              " (1, 1, 1, 3): 3,\n",
              " (1, 1, 1, 4): 4,\n",
              " (1, 1, 1, 5): 5,\n",
              " (1, 1, 2, 2): 4,\n",
              " (1, 1, 2, 3): 6,\n",
              " (1, 1, 2, 4): 8,\n",
              " (1, 1, 2, 5): 10,\n",
              " (1, 1, 3, 3): 9,\n",
              " (1, 1, 3, 4): 12,\n",
              " (1, 1, 3, 5): 15,\n",
              " (1, 1, 4, 4): 16,\n",
              " (1, 1, 4, 5): 20,\n",
              " (1, 1, 5, 5): 25,\n",
              " (1, 2, 2, 2): 8,\n",
              " (1, 2, 2, 3): 12,\n",
              " (1, 2, 2, 4): 16,\n",
              " (1, 2, 2, 5): 20,\n",
              " (1, 2, 3, 3): 18,\n",
              " (1, 2, 3, 4): 24,\n",
              " (1, 2, 3, 5): 30,\n",
              " (1, 2, 4, 4): 32,\n",
              " (1, 2, 4, 5): 40,\n",
              " (1, 2, 5, 5): 50,\n",
              " (1, 3, 3, 3): 27,\n",
              " (1, 3, 3, 4): 36,\n",
              " (1, 3, 3, 5): 45,\n",
              " (1, 3, 4, 4): 48,\n",
              " (1, 3, 4, 5): 60,\n",
              " (1, 3, 5, 5): 75,\n",
              " (1, 4, 4, 4): 64,\n",
              " (1, 4, 4, 5): 80,\n",
              " (1, 4, 5, 5): 100,\n",
              " (1, 5, 5, 5): 125,\n",
              " (2, 2, 2, 2): 16,\n",
              " (2, 2, 2, 3): 24,\n",
              " (2, 2, 2, 4): 32,\n",
              " (2, 2, 2, 5): 40,\n",
              " (2, 2, 3, 3): 36,\n",
              " (2, 2, 3, 4): 48,\n",
              " (2, 2, 3, 5): 60,\n",
              " (2, 2, 4, 4): 64,\n",
              " (2, 2, 4, 5): 80,\n",
              " (2, 2, 5, 5): 100,\n",
              " (2, 3, 3, 3): 54,\n",
              " (2, 3, 3, 4): 72,\n",
              " (2, 3, 3, 5): 90,\n",
              " (2, 3, 4, 4): 96,\n",
              " (2, 3, 4, 5): 120,\n",
              " (2, 3, 5, 5): 150,\n",
              " (2, 4, 4, 4): 128,\n",
              " (2, 4, 4, 5): 160,\n",
              " (2, 4, 5, 5): 200,\n",
              " (2, 5, 5, 5): 250,\n",
              " (3, 3, 3, 3): 81,\n",
              " (3, 3, 3, 4): 108,\n",
              " (3, 3, 3, 5): 135,\n",
              " (3, 3, 4, 4): 144,\n",
              " (3, 3, 4, 5): 180,\n",
              " (3, 3, 5, 5): 225,\n",
              " (3, 4, 4, 4): 192,\n",
              " (3, 4, 4, 5): 240,\n",
              " (3, 4, 5, 5): 300,\n",
              " (3, 5, 5, 5): 375,\n",
              " (4, 4, 4, 4): 256,\n",
              " (4, 4, 4, 5): 320,\n",
              " (4, 4, 5, 5): 400,\n",
              " (4, 5, 5, 5): 500,\n",
              " (5, 5, 5, 5): 625}"
            ]
          },
          "metadata": {},
          "execution_count": 4
        }
      ]
    },
    {
      "cell_type": "code",
      "source": [
        "{items:compute_new_features(items) for items in get_combinations([2,3], 2)} "
      ],
      "metadata": {
        "colab": {
          "base_uri": "https://localhost:8080/"
        },
        "id": "DlCFQg5-7baQ",
        "outputId": "0fc511a9-9964-4e37-8430-423396387c6b"
      },
      "execution_count": null,
      "outputs": [
        {
          "output_type": "execute_result",
          "data": {
            "text/plain": [
              "{(2, 2): 4, (2, 3): 6, (3, 3): 9}"
            ]
          },
          "metadata": {},
          "execution_count": 10
        }
      ]
    },
    {
      "cell_type": "code",
      "source": [
        "def polynomial_transformation(x, degree, logging=False):\n",
        "\n",
        "  if x.ndim == 1:\n",
        "    x = x[:, None]\n",
        "\n",
        "  x_t = x.transpose()\n",
        "  features = [np.ones(len(x))]\n",
        "\n",
        "  if logging:\n",
        "    print('Input: ', x)\n",
        "\n",
        "  for d in range(1, degree+1):\n",
        "    for items in get_combinations(x_t, d):\n",
        "      features.append(compute_new_features(items))\n",
        "      if logging:\n",
        "        print(items, ':', compute_new_features(items))\n",
        "    \n",
        "  if logging:\n",
        "    print(np.asarray(features).transpose())\n",
        "\n",
        "  return np.asarray(features).transpose()    "
      ],
      "metadata": {
        "id": "4mlsHrto7knz"
      },
      "execution_count": null,
      "outputs": []
    },
    {
      "cell_type": "code",
      "source": [
        "polynomial_transformation(np.array([[1],[2],[3],[4],[5]]), degree=4, logging=True)"
      ],
      "metadata": {
        "colab": {
          "base_uri": "https://localhost:8080/"
        },
        "id": "P6sNoh6ZME6D",
        "outputId": "dae205c2-c0a0-4db6-f988-870fee15bc4c"
      },
      "execution_count": null,
      "outputs": [
        {
          "output_type": "stream",
          "name": "stdout",
          "text": [
            "Input:  [[1]\n",
            " [2]\n",
            " [3]\n",
            " [4]\n",
            " [5]]\n",
            "(array([1, 2, 3, 4, 5]),) : [1 2 3 4 5]\n",
            "(array([1, 2, 3, 4, 5]), array([1, 2, 3, 4, 5])) : [ 1  4  9 16 25]\n",
            "(array([1, 2, 3, 4, 5]), array([1, 2, 3, 4, 5]), array([1, 2, 3, 4, 5])) : [  1   8  27  64 125]\n",
            "(array([1, 2, 3, 4, 5]), array([1, 2, 3, 4, 5]), array([1, 2, 3, 4, 5]), array([1, 2, 3, 4, 5])) : [  1  16  81 256 625]\n",
            "[[  1.   1.   1.   1.   1.]\n",
            " [  1.   2.   4.   8.  16.]\n",
            " [  1.   3.   9.  27.  81.]\n",
            " [  1.   4.  16.  64. 256.]\n",
            " [  1.   5.  25. 125. 625.]]\n"
          ]
        },
        {
          "output_type": "execute_result",
          "data": {
            "text/plain": [
              "array([[  1.,   1.,   1.,   1.,   1.],\n",
              "       [  1.,   2.,   4.,   8.,  16.],\n",
              "       [  1.,   3.,   9.,  27.,  81.],\n",
              "       [  1.,   4.,  16.,  64., 256.],\n",
              "       [  1.,   5.,  25., 125., 625.]])"
            ]
          },
          "metadata": {},
          "execution_count": 6
        }
      ]
    },
    {
      "cell_type": "markdown",
      "source": [
        "Non Linear training Data Generation"
      ],
      "metadata": {
        "id": "A74rBtVHROeR"
      }
    },
    {
      "cell_type": "code",
      "source": [
        "#Creates a training set where output label is obtained by first \n",
        "#calculating sin(2*pi*x) and then adding a small random noise having gaussian distribution\n",
        "\n",
        "def create_nonlin_training_set(func, sample_size, std):\n",
        "  x = np.linspace(0, 1, sample_size)\n",
        "  y = func(x) + np.random.normal(scale=std, size=x.shape)\n",
        "  return x, y\n",
        "\n",
        "def nonlin(x):\n",
        "  return np.sin(2*np.pi*x)"
      ],
      "metadata": {
        "id": "tywgLZvlRV90"
      },
      "execution_count": null,
      "outputs": []
    },
    {
      "cell_type": "markdown",
      "source": [
        "Data Visualization"
      ],
      "metadata": {
        "id": "N26_eQT7qPoc"
      }
    },
    {
      "cell_type": "code",
      "source": [
        "def visualize_training_data(X_train, Y_train):\n",
        "  points = np.linspace(0, 1, 100)\n",
        "  output = nonlin(points)\n",
        "\n",
        "  plt.scatter(X_train, Y_train, label='Training Data')\n",
        "  plt.plot(points, output, c='g', label='sin(2pi)')\n",
        "  plt.legend()\n",
        "  plt.show()\n",
        "\n",
        "def visualize_model_fit(x, y, lin_reg, degree):\n",
        "  points = np.linspace(0, 1, 100)\n",
        "  output = nonlin(points)\n",
        "\n",
        "  if degree > 0:\n",
        "    plt.scatter(x, y, s=50, label='Training Data')\n",
        "\n",
        "  plt.plot(points, output, c='g', label='sin2pi')\n",
        "\n",
        "  y_hat = lin_reg.predict(polynomial_transformation(points, degree))\n",
        "  plt.plot(points, y_hat, label='predicted')\n",
        "  plt.legend()\n",
        "  plt.show()"
      ],
      "metadata": {
        "id": "t4Md0rXxSMdG"
      },
      "execution_count": null,
      "outputs": []
    },
    {
      "cell_type": "code",
      "source": [
        "x, y = create_nonlin_training_set(nonlin, 10, 0.2)\n",
        "visualize_training_data(x, y)"
      ],
      "metadata": {
        "colab": {
          "base_uri": "https://localhost:8080/",
          "height": 265
        },
        "id": "rMyDBYwwrFaS",
        "outputId": "fc96a9e1-7911-4bfe-853d-1ecfbe83ac13"
      },
      "execution_count": null,
      "outputs": [
        {
          "output_type": "display_data",
          "data": {
            "text/plain": [
              "<Figure size 432x288 with 1 Axes>"
            ],
            "image/png": "[encoded data removed]"
          },
          "metadata": {
            "needs_background": "light"
          }
        }
      ]
    },
    {
      "cell_type": "code",
      "source": [
        "#Polynomial regression"
      ],
      "metadata": {
        "id": "skLx64UtrUe7"
      },
      "execution_count": null,
      "outputs": []
    },
    {
      "cell_type": "code",
      "source": [
        "degree = 7\n",
        "\n",
        "x_transformation = polynomial_transformation(x, degree)\n",
        "lin_reg = LinReg()\n",
        "lin_reg.fit(x_transformation, y, 0.00001)\n",
        "visualize_model_fit(x, y, lin_reg, degree)"
      ],
      "metadata": {
        "colab": {
          "base_uri": "https://localhost:8080/",
          "height": 265
        },
        "id": "DjnxeZ3Frtqy",
        "outputId": "368f9fe7-7f52-40a2-c647-b164c90b543d"
      },
      "execution_count": null,
      "outputs": [
        {
          "output_type": "display_data",
          "data": {
            "text/plain": [
              "<Figure size 432x288 with 1 Axes>"
            ],
            "image/png": "[encoded data removed]"
          },
          "metadata": {
            "needs_background": "light"
          }
        }
      ]
    },
    {
      "cell_type": "markdown",
      "source": [
        "###Ridge Regression"
      ],
      "metadata": {
        "id": "1Kdf55TxaqpX"
      }
    },
    {
      "cell_type": "code",
      "source": [
        "class LinReg(object):\n",
        "  \"\"\"\n",
        "  y = X@w\n",
        "  X: A feature matrix\n",
        "  w : weight vector\n",
        "  y: label vector\n",
        "\n",
        "  \"\"\"\n",
        "  def __init__(self):\n",
        "    self.t0 = 20\n",
        "    self.t1 = 100000\n",
        "\n",
        "  def predict(self,X:np.ndarray):\n",
        "    y = X @ self.w\n",
        "    return y\n",
        "  \n",
        "  def loss(self, X:np.ndarray, y:np.ndarray, reg_rate:float):\n",
        "    e =  self.predict(X)-y\n",
        "    #return ((1/2)*(np.transpose(e) @ e))\n",
        "    return ((1/2)*(np.transpose(e) @ e)) + (reg_rate/2)*(np.transpose(self.w) @ self.w)\n",
        "\n",
        "  def rmse (self, X:np.ndarray, y:np.ndarray):\n",
        "    return np.sqrt((2/X.shape[0]) * self.loss(X,y)) #2/n * loss\n",
        "  \n",
        "  def fit (self, X:np.ndarray, y:np.ndarray, reg_rate:float):\n",
        "    \n",
        "    self.w = np.zeros((X.shape[1]))\n",
        "    eye = np.eye(np.size(X, 1))\n",
        "    self.w = np.linalg.solve(\n",
        "        reg_rate * eye + X.T @ X,\n",
        "        X.T @ y\n",
        "    )\n",
        "\n",
        "    return self.w\n",
        "  \n",
        "  def calculate_gradient(self, X:np.ndarray, y:np.ndarray, reg_rate:float):\n",
        "    return(np.transpose(X) @ (self.predict(X)-y) + reg_rate * self.w)\n",
        "  \n",
        "  def update_weights(self, grad:np.ndarray, lr:float):\n",
        "    return(self.w - lr*grad)\n",
        "\n",
        "  def learning_schedule(self,t):\n",
        "    return self.t0 / (t+self.t1)\n",
        "\n",
        "  def gd(self, X:np.ndarray, y:np.ndarray, num_epochs:int, lr:float):\n",
        "    self.w = np.zeros((X.shape[1]))\n",
        "    self.w_all = []\n",
        "    self.err_all = []\n",
        "    for i in np.arange(0,num_epochs):\n",
        "      self.w_all.append(self.w)\n",
        "      self.err_all.append(self.loss(X,y))\n",
        "      djdw = self.calculate_gradient(X,y)\n",
        "      self.w = self.update_weights(djdw,lr)\n",
        "    return self.w\n",
        "\n",
        "  def mbgd(self, X:np.ndarray, y:np.ndarray, num_epochs:int, batch_size:int):\n",
        "    self.w = np.zeros((X.shape[1]))\n",
        "    self.w_all = []\n",
        "    self.err_all = []\n",
        "    mini_batch_id = 0\n",
        "\n",
        "    for epoch in range(num_epochs):\n",
        "      shuffled_indices = np.random.permutation(X.shape[0])\n",
        "      X_shuffled = X[shuffled_indices]\n",
        "      y_shuffled = y[shuffled_indices]\n",
        "      for i in range(0,X.shape[0],batch_size):\n",
        "        mini_batch_id += 1\n",
        "        xi = X_shuffled[i:i+batch_size]\n",
        "        yi = y_shuffled[i:i+batch_size]\n",
        "        self.w_all.append(self.w)\n",
        "        self.err_all.append(self.loss(xi,yi))\n",
        "        djdw = 2/batch_size * self.calculate_gradient(xi,yi)\n",
        "        self.w = self.update_weights(djdw,self.learning_schedule(mini_batch_id))\n",
        "    return self.w\n",
        "\n",
        "  def sgd(self, X:np.ndarray, y:np.ndarray, num_epochs:int):\n",
        "    self.w = np.zeros((X.shape[1]))\n",
        "    self.w_all = []\n",
        "    self.err_all = []\n",
        " \n",
        "    for epoch in range(num_epochs):\n",
        "      for i in range(X.shape[0]):\n",
        "       \n",
        "        random_index = np.random.randint(X.shape[0])\n",
        "        xi = X[random_index:random_index+1]\n",
        "        yi = y[random_index:random_index+1]\n",
        "        self.w_all.append(self.w)\n",
        "        self.err_all.append(self.loss(xi,yi))\n",
        "        djdw = 2 * self.calculate_gradient(xi,yi)\n",
        "        self.w = self.update_weights(djdw,self.learning_schedule(epoch * X.shape[0] + i))\n",
        "    return self.w"
      ],
      "metadata": {
        "id": "FlSQOWTkxtUf"
      },
      "execution_count": null,
      "outputs": []
    },
    {
      "cell_type": "code",
      "source": [
        "f = plt.figure(figsize = (12, 8))\n",
        "x, y = create_nonlin_training_set(nonlin, 10, 0.2)\n",
        "\n",
        "for i, degree in enumerate([0, 1, 3, 5, 7, 9]):\n",
        "  plt.subplot(3, 3, i+1)\n",
        "  X_transform = polynomial_transformation(x, degree)\n",
        "  lin_reg = LinReg()\n",
        "  lin_reg.fit(X_transform, y, reg_rate=0)\n",
        "  visualize_model_fit(x, y, lin_reg, degree)\n",
        "\n",
        "#f.tight_layout()\n",
        "plt.show()"
      ],
      "metadata": {
        "colab": {
          "base_uri": "https://localhost:8080/",
          "height": 651
        },
        "id": "CefyJKKI9_bZ",
        "outputId": "cdb2882c-0664-4a40-de9d-7fbe4b2c66de"
      },
      "execution_count": null,
      "outputs": [
        {
          "output_type": "display_data",
          "data": {
            "text/plain": [
              "<Figure size 864x576 with 1 Axes>"
            ],
            "image/png": "[encoded data removed]"
          },
          "metadata": {
            "needs_background": "light"
          }
        },
        {
          "output_type": "display_data",
          "data": {
            "text/plain": [
              "<Figure size 432x288 with 1 Axes>"
            ],
            "image/png": "[encoded data removed]"
          },
          "metadata": {
            "needs_background": "light"
          }
        },
        {
          "output_type": "display_data",
          "data": {
            "text/plain": [
              "<Figure size 432x288 with 1 Axes>"
            ],
            "image/png": "[encoded data removed]"
          },
          "metadata": {
            "needs_background": "light"
          }
        },
        {
          "output_type": "display_data",
          "data": {
            "text/plain": [
              "<Figure size 432x288 with 1 Axes>"
            ],
            "image/png": "[encoded data removed]"
          },
          "metadata": {
            "needs_background": "light"
          }
        },
        {
          "output_type": "display_data",
          "data": {
            "text/plain": [
              "<Figure size 432x288 with 1 Axes>"
            ],
            "image/png": "[encoded data removed]"
          },
          "metadata": {
            "needs_background": "light"
          }
        },
        {
          "output_type": "display_data",
          "data": {
            "text/plain": [
              "<Figure size 432x288 with 1 Axes>"
            ],
            "image/png": "[encoded data removed]"
          },
          "metadata": {
            "needs_background": "light"
          }
        }
      ]
    },
    {
      "cell_type": "code",
      "source": [
        "import numpy as np\n",
        "import random\n",
        "import itertools\n",
        "import functools\n",
        "\n",
        "def get_combinations(x, degree):\n",
        "  return itertools.combinations_with_replacement(x, degree)\n",
        "\n",
        "def compute_new_features(items):\n",
        "  return functools.reduce(lambda x, y: x * y, items)\n",
        "\n",
        "def polynomial_transformation(x, degree):\n",
        "\n",
        "  if x.ndim == 1:\n",
        "    x = x[:, None]\n",
        "\n",
        "  x_t = x.transpose()\n",
        "  features = [np.ones(len(x))]\n",
        "  \n",
        "\n",
        "  for d in range(1, degree+1):\n",
        "    for items in get_combinations(x_t, d):\n",
        "      features.append(compute_new_features(items))\n",
        "  \n",
        "\n",
        "  return np.asarray(features).transpose()   \n",
        "  \n",
        "def fit(x, y):\n",
        "    return np.linalg.pinv(X) @ y\n",
        "    \n",
        "def predict(x, w):\n",
        "    return x@w\n",
        "\n",
        "def loss(x, w, y):\n",
        "    e = predict(x, w) - y\n",
        "    return ((1/2)*(np.transpose(e) @ e))\n",
        "\n",
        "def rmse(x, w, y):\n",
        "  \n",
        "    return np.sqrt((2/x.shape[0]) * loss(x, w, y))\n",
        "\n",
        "def model_error(X, y,degree):\n",
        "    X = np.column_stack((np.ones(X.shape[0]), X))\n",
        "    X_transformed = polynomial_transformation(X, degree)\n",
        "    w = fit(X_transformed, y)\n",
        "    error = rmse(X_transformed, w, y)\n",
        "    print(error)\n",
        "    "
      ],
      "metadata": {
        "id": "qEhQKA7c_PqT"
      },
      "execution_count": null,
      "outputs": []
    },
    {
      "cell_type": "code",
      "source": [
        "def polynomial_transform(x, degree):\n",
        "  if x.ndim == 1:\n",
        "    x = x[:, None]\n",
        "\n",
        "  x_t = x.transpose()\n",
        "  features = [np.ones(len(x))]\n",
        "\n",
        "  for d in range(1, degree+1):\n",
        "    for items in get_combinations(x_t, d):\n",
        "      features.append(compute_new_features(items))\n",
        "\n",
        "\n",
        "\n",
        "  return np.asarray(features).transpose() \n",
        "    \n",
        "def get_combinations(x, degree):\n",
        "  return itertools.combinations_with_replacement(x, degree)\n",
        "\n",
        "def compute_new_features(items):\n",
        "  return functools.reduce(lambda x, y: x * y, items)\n",
        "\n",
        "\n",
        "def ridge_loss(x, y, w):\n",
        "    \n",
        "    x = np.column_stack((np.ones(x.shape[0]), x))\n",
        "    \n",
        "    e = (x@w)-y\n",
        "    return ((1/2)*(np.transpose(e)@e)"
      ],
      "metadata": {
        "id": "rUDjzESQSuXa"
      },
      "execution_count": null,
      "outputs": []
    }
  ]
}