{
  "nbformat": 4,
  "nbformat_minor": 0,
  "metadata": {
    "colab": {
      "name": "LeastSquareClassification.ipynb",
      "provenance": []
    },
    "kernelspec": {
      "name": "python3",
      "display_name": "Python 3"
    },
    "language_info": {
      "name": "python"
    }
  },
  "cells": [
    {
      "cell_type": "code",
      "source": [
        "from IPython.display import display, Math, Latex\n",
        "\n",
        "import seaborn as sns\n",
        "import matplotlib.pyplot as plt\n",
        "import numpy as np\n",
        "\n",
        "%matplotlib inline"
      ],
      "metadata": {
        "id": "6y8eQxNVoCm_"
      },
      "execution_count": null,
      "outputs": []
    },
    {
      "cell_type": "markdown",
      "source": [
        "###Polynomial Transformation"
      ],
      "metadata": {
        "id": "HWF3xydan7PW"
      }
    },
    {
      "cell_type": "code",
      "source": [
        "import itertools\n",
        "import functools\n",
        "\n",
        "def get_combinations(x, degree):\n",
        "  return itertools.combinations_with_replacement(x, degree)\n",
        "\n",
        "def compute_new_features(items):\n",
        "  return functools.reduce(lambda x, y: x * y, items)"
      ],
      "metadata": {
        "id": "mC_iwBmroI6i"
      },
      "execution_count": null,
      "outputs": []
    },
    {
      "cell_type": "code",
      "execution_count": null,
      "metadata": {
        "id": "z-j04DlNnw_O"
      },
      "outputs": [],
      "source": [
        "def polynomial_transformation(x, degree, logging=False):\n",
        "\n",
        "  if x.ndim == 1:\n",
        "    x = x[:, None]\n",
        "\n",
        "  x_t = x.transpose()\n",
        "  features = [np.ones(len(x))]\n",
        "\n",
        "  if logging:\n",
        "    print('Input: ', x)\n",
        "\n",
        "  for d in range(1, degree+1):\n",
        "    for items in get_combinations(x_t, d):\n",
        "      features.append(compute_new_features(items))\n",
        "      if logging:\n",
        "        print(items, ':', compute_new_features(items))\n",
        "    \n",
        "  if logging:\n",
        "    print(np.asarray(features).transpose())\n",
        "\n",
        "  return np.asarray(features).transpose()    "
      ]
    },
    {
      "cell_type": "markdown",
      "source": [
        "###Label Encoding"
      ],
      "metadata": {
        "id": "1D_XPla0oaSl"
      }
    },
    {
      "cell_type": "code",
      "source": [
        "class LabelTranformer(object):\n",
        "  '''\n",
        "  Label encoder decoder\n",
        "\n",
        "  Attributes:\n",
        "  n_classes : int\n",
        "            Number of classes, K\n",
        "\n",
        "  '''\n",
        "\n",
        "  def __init__(self, n_classes:int = None):\n",
        "      self.n_classes = n_classes\n",
        "\n",
        "  @property\n",
        "  def n_classes(self):\n",
        "    return self.__n_classes\n",
        "\n",
        "  @n_classes.setter\n",
        "  def n_classes(self, k):\n",
        "    self.__n_classes = k\n",
        "    self.__encoder = None if k is None else np.eye(k)\n",
        "\n",
        "  @property\n",
        "  def encoder(self):\n",
        "    return self.__encoder\n",
        "\n",
        "  def encode(self, class_indices:np.ndarray):\n",
        "    '''\n",
        "    encode class into one-of-k code\n",
        "\n",
        "    parameters\n",
        "    -----------\n",
        "    class_indices : (N,) np.ndarray\n",
        "        Non-Negative class index\n",
        "        elements must be integer in [0, n_classes]\n",
        "\n",
        "    Returns\n",
        "    ----------\n",
        "    (N,K) np.ndarray\n",
        "        one-of-k encoding of input\n",
        "    '''\n",
        "\n",
        "    if self.n_classes is None:\n",
        "      self.n_classes = np.max(class_indices) + 1  \n",
        "\n",
        "    return self.encoder[class_indices]\n",
        "\n",
        "  def decode(self, onehot:np.ndarray):\n",
        "\n",
        "    return np.argmax(onehot, axis=1)"
      ],
      "metadata": {
        "id": "5kGOeGu2oAYa"
      },
      "execution_count": null,
      "outputs": []
    },
    {
      "cell_type": "code",
      "source": [
        "binary_labels = LabelTranformer(2).encode(np.array([1, 0, 1, 0]))\n",
        "binary_labels"
      ],
      "metadata": {
        "colab": {
          "base_uri": "https://localhost:8080/"
        },
        "id": "E3wccHmGykIS",
        "outputId": "f208cbeb-16d0-490b-c961-dff0548266ee"
      },
      "execution_count": null,
      "outputs": [
        {
          "output_type": "execute_result",
          "data": {
            "text/plain": [
              "array([[0., 1.],\n",
              "       [1., 0.],\n",
              "       [0., 1.],\n",
              "       [1., 0.]])"
            ]
          },
          "metadata": {},
          "execution_count": 14
        }
      ]
    },
    {
      "cell_type": "markdown",
      "source": [
        "###LSC implementation"
      ],
      "metadata": {
        "id": "cTzhBSYl1i9-"
      }
    },
    {
      "cell_type": "code",
      "source": [
        "class LSC(object):\n",
        "  \"\"\"\n",
        "  y = X@w\n",
        "  X: A feature matrix\n",
        "  w : weight vector\n",
        "  y: label vector\n",
        "\n",
        "\n",
        "\n",
        "  \"\"\"\n",
        "  def __init__(self):\n",
        "    self.t0 = 20\n",
        "    self.t1 = 100000\n",
        "\n",
        "  def predict(self,X:np.ndarray):\n",
        "\n",
        "    assert X.shape[-1] ==  self.w.shape[0], f'X shape {X.shape} and w shape{self.w.shape} are not compatible'\n",
        "    \n",
        "    return np.argmax(X @ self.w, axis=-1)\n",
        "\n",
        "  def predict_internal(self, X:np.ndarray):\n",
        "\n",
        "    return X @ self.w\n",
        "  \n",
        "  def loss(self, X:np.ndarray, y:np.ndarray):\n",
        "    e =  self.predict_internal(X)-y\n",
        "    return ((1/2)*(np.transpose(e) @ e))\n",
        "\n",
        "  def rmse (self, X:np.ndarray, y:np.ndarray):\n",
        "    return np.sqrt((2/X.shape[0]) * self.loss(X,y)) #2/n * loss\n",
        "  \n",
        "  def fit (self, X:np.ndarray, y:np.ndarray, reg_rate:float):\n",
        "    \n",
        "    self.w = np.zeros((X.shape[1]))\n",
        "    eye = np.eye(np.size(X, 1))\n",
        "    self.w = np.linalg.solve(\n",
        "        reg_rate * eye + X.T @ X,\n",
        "        X.T @ y\n",
        "    )\n",
        "\n",
        "    return self.w\n",
        "  \n",
        "  def calculate_gradient(self, X:np.ndarray, y:np.ndarray, reg_rate:float):\n",
        "    return(np.transpose(X) @ (self.predict(X)-y) + reg_rate * self.w)\n",
        "  \n",
        "  def update_weights(self, grad:np.ndarray, lr:float):\n",
        "    return(self.w - lr*grad)\n",
        "\n",
        "  def learning_schedule(self,t):\n",
        "    return self.t0 / (t+self.t1)\n",
        "\n",
        "  def gd(self, X:np.ndarray, y:np.ndarray, num_epochs:int, lr:float):\n",
        "    self.w = np.zeros((X.shape[1]))\n",
        "    self.w_all = []\n",
        "    self.err_all = []\n",
        "    for i in np.arange(0,num_epochs):\n",
        "      self.w_all.append(self.w)\n",
        "      self.err_all.append(self.loss(X,y))\n",
        "      djdw = self.calculate_gradient(X,y)\n",
        "      self.w = self.update_weights(djdw,lr)\n",
        "    return self.w\n",
        "\n",
        "  def mbgd(self, X:np.ndarray, y:np.ndarray, num_epochs:int, batch_size:int):\n",
        "    self.w = np.zeros((X.shape[1]))\n",
        "    self.w_all = []\n",
        "    self.err_all = []\n",
        "    mini_batch_id = 0\n",
        "\n",
        "    for epoch in range(num_epochs):\n",
        "      shuffled_indices = np.random.permutation(X.shape[0])\n",
        "      X_shuffled = X[shuffled_indices]\n",
        "      y_shuffled = y[shuffled_indices]\n",
        "      for i in range(0,X.shape[0],batch_size):\n",
        "        mini_batch_id += 1\n",
        "        xi = X_shuffled[i:i+batch_size]\n",
        "        yi = y_shuffled[i:i+batch_size]\n",
        "        self.w_all.append(self.w)\n",
        "        self.err_all.append(self.loss(xi,yi))\n",
        "        djdw = 2/batch_size * self.calculate_gradient(xi,yi)\n",
        "        self.w = self.update_weights(djdw,self.learning_schedule(mini_batch_id))\n",
        "    return self.w\n",
        "\n",
        "  def sgd(self, X:np.ndarray, y:np.ndarray, num_epochs:int):\n",
        "    self.w = np.zeros((X.shape[1]))\n",
        "    self.w_all = []\n",
        "    self.err_all = []\n",
        " \n",
        "    for epoch in range(num_epochs):\n",
        "      for i in range(X.shape[0]):\n",
        "       \n",
        "        random_index = np.random.randint(X.shape[0])\n",
        "        xi = X[random_index:random_index+1]\n",
        "        yi = y[random_index:random_index+1]\n",
        "        self.w_all.append(self.w)\n",
        "        self.err_all.append(self.loss(xi,yi))\n",
        "        djdw = 2 * self.calculate_gradient(xi,yi)\n",
        "        self.w = self.update_weights(djdw,self.learning_schedule(epoch * X.shape[0] + i))\n",
        "    return self.w\n",
        "\n",
        "\n",
        "\n"
      ],
      "metadata": {
        "id": "si9ifDyMzUq9"
      },
      "execution_count": null,
      "outputs": []
    },
    {
      "cell_type": "markdown",
      "source": [
        "###Demonstartion"
      ],
      "metadata": {
        "id": "6cxGKRxtJz1s"
      }
    },
    {
      "cell_type": "markdown",
      "source": [
        "creating toy dataset "
      ],
      "metadata": {
        "id": "Ily3FeQbJ3Am"
      }
    },
    {
      "cell_type": "code",
      "source": [
        "def create_toy_data(add_outliers=False, add_class=False):\n",
        "\n",
        "  x0 = np.random.normal(size=50).reshape(-1, 2) - 1\n",
        "  x1 = np.random.normal(size=50).reshape(-1, 2) + 1\n",
        "\n",
        "  if add_outliers:\n",
        "    x_1 = np.random.normal(size=10).reshape(-1, 2) + np.array([5., 10.])\n",
        "    return np.concatenate([x0, x1, x_1]), np.concatenate([np.zeros(25), np.ones(25)]).astype(np.int)\n",
        "\n",
        "  if add_class:\n",
        "    x2 = np.random.normal(size=50).reshape(-1, 2) + 2\n",
        "    return np.concatenate([x0, x1, x2]), np.concatenate([np.zeros(25), np.ones(25)]).astype(np.int)\n",
        "\n",
        "  return np.concatenate([x0, x1]), np.concatenate([np.zeros(25), np.ones(25)]).astype(np.int)"
      ],
      "metadata": {
        "id": "fk6RhYFFI0P5"
      },
      "execution_count": null,
      "outputs": []
    },
    {
      "cell_type": "code",
      "source": [
        "x = np.concatenate([np.zeros(25), np.ones(25)])\n",
        "x"
      ],
      "metadata": {
        "colab": {
          "base_uri": "https://localhost:8080/"
        },
        "id": "X2Ez-QYYKLHL",
        "outputId": "8577eb7d-6401-4e40-93d4-da9beb57d351"
      },
      "execution_count": null,
      "outputs": [
        {
          "output_type": "execute_result",
          "data": {
            "text/plain": [
              "array([0., 0., 0., 0., 0., 0., 0., 0., 0., 0., 0., 0., 0., 0., 0., 0., 0.,\n",
              "       0., 0., 0., 0., 0., 0., 0., 0., 1., 1., 1., 1., 1., 1., 1., 1., 1.,\n",
              "       1., 1., 1., 1., 1., 1., 1., 1., 1., 1., 1., 1., 1., 1., 1., 1.])"
            ]
          },
          "metadata": {},
          "execution_count": 41
        }
      ]
    },
    {
      "cell_type": "code",
      "source": [
        "from sklearn.model_selection import train_test_split\n",
        "\n",
        "def preprocessing(add_class=False, add_outliers=False, degree=1):\n",
        "\n",
        "  x, y = create_toy_data(add_outliers, add_class)\n",
        "  x_poly = polynomial_transformation(x, degree)\n",
        "\n",
        "  x_train, x_test, y_train, y_test = train_test_split(x_poly, y)\n",
        "  y_train_trans = LabelTranformer().encode(y_train)\n",
        "  y_test_trans = LabelTranformer().encode(y_test)\n",
        "\n",
        "  return x_train, x_test, y_train, y_test, y_train_trans, y_test_trans"
      ],
      "metadata": {
        "id": "oBDUIJtyKOe4"
      },
      "execution_count": null,
      "outputs": []
    },
    {
      "cell_type": "code",
      "source": [
        "#visualization\n",
        "\n",
        "'Some code'"
      ],
      "metadata": {
        "colab": {
          "base_uri": "https://localhost:8080/",
          "height": 36
        },
        "id": "GgX7de1HP00Z",
        "outputId": "8ba07da4-5874-474b-9f2b-44695b559d40"
      },
      "execution_count": null,
      "outputs": [
        {
          "output_type": "execute_result",
          "data": {
            "text/plain": [
              "'Some code'"
            ],
            "application/vnd.google.colaboratory.intrinsic+json": {
              "type": "string"
            }
          },
          "metadata": {},
          "execution_count": 43
        }
      ]
    },
    {
      "cell_type": "code",
      "source": [
        "x_train, x_test, y_train, y_test, y_train_trans, y_test_trans = preprocessing()"
      ],
      "metadata": {
        "colab": {
          "base_uri": "https://localhost:8080/"
        },
        "id": "0QSOAuHLRMcs",
        "outputId": "fa9d8844-09ef-48f4-da57-4b4c73f76f3d"
      },
      "execution_count": null,
      "outputs": [
        {
          "output_type": "stream",
          "name": "stderr",
          "text": [
            "/usr/local/lib/python3.7/dist-packages/ipykernel_launcher.py:14: DeprecationWarning: `np.int` is a deprecated alias for the builtin `int`. To silence this warning, use `int` by itself. Doing this will not modify any behavior and is safe. When replacing `np.int`, you may wish to use e.g. `np.int64` or `np.int32` to specify the precision. If you wish to review your current use, check the release note link for additional information.\n",
            "Deprecated in NumPy 1.20; for more details and guidance: https://numpy.org/devdocs/release/1.20.0-notes.html#deprecations\n",
            "  \n"
          ]
        }
      ]
    },
    {
      "cell_type": "code",
      "source": [
        "print(x_train.shape)\n",
        "print(y_train.shape)\n",
        "\n",
        "print(x_test.shape)\n",
        "print(y_test.shape)\n"
      ],
      "metadata": {
        "colab": {
          "base_uri": "https://localhost:8080/"
        },
        "id": "D-iQ6ECURaKT",
        "outputId": "90b81959-1fa2-4c47-e768-ca2c76d6ddc2"
      },
      "execution_count": null,
      "outputs": [
        {
          "output_type": "stream",
          "name": "stdout",
          "text": [
            "(37, 3)\n",
            "(37,)\n",
            "(13, 3)\n",
            "(13,)\n"
          ]
        }
      ]
    },
    {
      "cell_type": "code",
      "source": [
        "sns.scatterplot(data=x_train, x=x_train[:, -2], y=x_train[:, -1], hue = y_train)"
      ],
      "metadata": {
        "colab": {
          "base_uri": "https://localhost:8080/",
          "height": 282
        },
        "id": "0RchM3JERsL1",
        "outputId": "08288c0d-bea6-4c27-af1d-0f289437df0e"
      },
      "execution_count": null,
      "outputs": [
        {
          "output_type": "execute_result",
          "data": {
            "text/plain": [
              "<matplotlib.axes._subplots.AxesSubplot at 0x7f5fd76c2250>"
            ]
          },
          "metadata": {},
          "execution_count": 46
        },
        {
          "output_type": "display_data",
          "data": {
            "text/plain": [
              "<Figure size 432x288 with 1 Axes>"
            ],
            "image/png": "[encoded data removed]"
          },
          "metadata": {
            "needs_background": "light"
          }
        }
      ]
    },
    {
      "cell_type": "code",
      "source": [
        "lsc = LSC()"
      ],
      "metadata": {
        "id": "CY6PSzbZSOB7"
      },
      "execution_count": null,
      "outputs": []
    },
    {
      "cell_type": "code",
      "source": [
        "w = lsc.fit(x_train, y_train_trans, reg_rate=0)\n",
        "print('Weight', w)"
      ],
      "metadata": {
        "colab": {
          "base_uri": "https://localhost:8080/"
        },
        "id": "AuLFgplSXp1P",
        "outputId": "2e4d7b0a-e0d8-41a6-b4c2-4cd4bd76ba07"
      },
      "execution_count": null,
      "outputs": [
        {
          "output_type": "stream",
          "name": "stdout",
          "text": [
            "Weight [[ 0.44374174  0.55625826]\n",
            " [-0.16659187  0.16659187]\n",
            " [-0.1586804   0.1586804 ]]\n"
          ]
        }
      ]
    },
    {
      "cell_type": "code",
      "source": [
        "#Evaluation"
      ],
      "metadata": {
        "id": "ZHBNuIxQX8pq"
      },
      "execution_count": null,
      "outputs": []
    },
    {
      "cell_type": "code",
      "source": [
        "y_hat = lsc.predict(x_test)\n",
        "print(y_hat.shape)"
      ],
      "metadata": {
        "colab": {
          "base_uri": "https://localhost:8080/"
        },
        "id": "BHZ40L7NaAWt",
        "outputId": "baa3cc67-80d3-4e81-bd6a-30f9f92548ed"
      },
      "execution_count": null,
      "outputs": [
        {
          "output_type": "stream",
          "name": "stdout",
          "text": [
            "(13,)\n"
          ]
        }
      ]
    },
    {
      "cell_type": "code",
      "source": [
        "tp = np.where((y_test == 1) & (y_hat == 1), 1, 0).sum()\n",
        "tn = np.where((y_test == 0) & (y_hat == 0), 1, 0).sum()\n",
        "fp = np.where((y_test == 0) & (y_hat == 1), 1, 0).sum()\n",
        "fn = np.where((y_test == 1) & (y_hat == 0), 1, 0).sum()"
      ],
      "metadata": {
        "id": "GEhAOx7RaK5l"
      },
      "execution_count": null,
      "outputs": []
    },
    {
      "cell_type": "code",
      "source": [
        "def precision(tp, fp):\n",
        "  if tp+fp == 0: return np.NaN\n",
        "  return tp/(tp+fp)"
      ],
      "metadata": {
        "id": "izdLA2JtattF"
      },
      "execution_count": null,
      "outputs": []
    },
    {
      "cell_type": "code",
      "source": [
        "def recall(tp, fn):\n",
        "  if tp+fn == 0: return np.NaN\n",
        "  return tp/(tp+fn)"
      ],
      "metadata": {
        "id": "hrCybErla-NO"
      },
      "execution_count": null,
      "outputs": []
    },
    {
      "cell_type": "code",
      "source": [
        "def accuracy(tp, fp, tn, fn):\n",
        " \n",
        "  return (tp + tn)/(tp+fp+tn+fn)"
      ],
      "metadata": {
        "id": "8gemUNkTbFkd"
      },
      "execution_count": null,
      "outputs": []
    },
    {
      "cell_type": "code",
      "source": [
        "def f1_score(pr, r):\n",
        "  \n",
        "  return 2 * ((pr*r)/(pr+r))"
      ],
      "metadata": {
        "id": "GzHuOMGebOAd"
      },
      "execution_count": null,
      "outputs": []
    },
    {
      "cell_type": "code",
      "source": [
        "pr = precision(tp, fp)\n",
        "r = recall(tp, fn)\n",
        "print('precission', pr)\n",
        "print('recall', r)\n",
        "print('Accusracy', accuracy(tp, fp, tn, fn))\n",
        "print('f1_score', f1_score(pr, r))"
      ],
      "metadata": {
        "colab": {
          "base_uri": "https://localhost:8080/"
        },
        "id": "2X4hRrGmbdPB",
        "outputId": "bf90c14e-fc4a-4354-907c-6fe086c112bf"
      },
      "execution_count": null,
      "outputs": [
        {
          "output_type": "stream",
          "name": "stdout",
          "text": [
            "precission 1.0\n",
            "recall 1.0\n",
            "Accusracy 1.0\n",
            "f1_score 1.0\n"
          ]
        }
      ]
    },
    {
      "cell_type": "code",
      "source": [
        ""
      ],
      "metadata": {
        "id": "zNg4B2PAb76m"
      },
      "execution_count": null,
      "outputs": []
    }
  ]
}